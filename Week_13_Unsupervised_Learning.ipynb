{
  "nbformat": 4,
  "nbformat_minor": 0,
  "metadata": {
    "colab": {
      "name": "Week 13 Unsupervised Learning",
      "provenance": [],
      "toc_visible": true,
      "authorship_tag": "ABX9TyOASSGTLRycKcqeSwzDoYO4",
      "include_colab_link": true
    },
    "kernelspec": {
      "name": "ir",
      "display_name": "R"
    }
  },
  "cells": [
    {
      "cell_type": "markdown",
      "metadata": {
        "id": "view-in-github",
        "colab_type": "text"
      },
      "source": [
        "<a href=\"https://colab.research.google.com/github/UnplugCharger/Week-13/blob/master/Week_13_Unsupervised_Learning.ipynb\" target=\"_parent\"><img src=\"https://colab.research.google.com/assets/colab-badge.svg\" alt=\"Open In Colab\"/></a>"
      ]
    },
    {
      "cell_type": "markdown",
      "metadata": {
        "id": "r1kdDxU6_6RQ",
        "colab_type": "text"
      },
      "source": [
        "# Problem Statement\n",
        "\n",
        "\n",
        "## Question\n",
        "\n",
        "Kira Plastinina is a Russian brand that is sold through a defunct chain of retail stores in Russia, Ukraine, Kazakhstan, Belarus, China, Philippines, and Armenia. The brand’s Sales and Marketing team would like to understand their customer’s behavior from data that they have collected over the past year. More specifically, they would like to learn the characteristics of customer groups.\n",
        "\n",
        "## Specific Question\n",
        "\n",
        "Do customer segmentation using Unsupervised Machine learning model in R \n",
        "The Algorithms to be used are K-means , DBSCAN and Hierarchical Clustering \n",
        "\n",
        "\n",
        "## Metrics of Success\n",
        "Perform clusteing on the data using K-means , DBSCAN  and challenge the solution Using Hierararchical Clustering\n",
        "\n",
        "# Data Sourcing\n",
        "\n",
        "The data used in this analysis was obtained from http://bit.ly/EcommerceCustomersDataset\n",
        "\n",
        "The dataset consists of 10 numerical and 8 categorical attributes. The 'Revenue' attribute can be used as the class label.\n",
        "\n",
        "1. \"Administrative\", \"Administrative Duration\", \"Informational\", \"Informational Duration\", \"Product Related\" and \"Product Related Duration\" represents the number of different types of pages visited by the visitor in that session and total time spent in each of these page categories. The values of these features are derived from the URL information of the pages visited by the user and updated in real-time when a user takes an action, e.g. moving from one page to another. \n",
        "\n",
        "2. The \"Bounce Rate\", \"Exit Rate\" and \"Page Value\" features represent the metrics measured by \"Google Analytics\" for each page in the e-commerce site. \n",
        "3. The value of the \"Bounce Rate\" feature for a web page refers to the percentage of visitors who enter the site from that page and then leave (\"bounce\") without triggering any other requests to the analytics server during that session. \n",
        "4. The value of the \"Exit Rate\" feature for a specific web page is calculated as for all pageviews to the page, the percentage that was the last in the session.\n",
        "5. The \"Page Value\" feature represents the average value for a web page that a user visited before completing an e-commerce transaction. \n",
        "6. The \"Special Day\" feature indicates the closeness of the site visiting time to a specific special day (e.g. Mother’s Day, Valentine's Day) in which the sessions are more likely to be finalized with the transaction. The value of this attribute is determined by considering the dynamics of e-commerce such as the duration between the order date and delivery date. For example, for Valentina’s day, this value takes a nonzero value between February 2 and February 12, zero before and after this date unless it is close to another special day, and its maximum value of 1 on February 8. \n",
        "7. The dataset also includes the operating system, browser, region, traffic type, visitor type as returning or new visitor, a Boolean value indicating whether the date of the"
      ]
    },
    {
      "cell_type": "markdown",
      "metadata": {
        "id": "k2YuKBk3EsGZ",
        "colab_type": "text"
      },
      "source": [
        "# Check the Data"
      ]
    },
    {
      "cell_type": "code",
      "metadata": {
        "id": "4upGK7uNFGSK",
        "colab_type": "code",
        "colab": {
          "base_uri": "https://localhost:8080/",
          "height": 224
        },
        "outputId": "4e1c8872-02a1-46c7-ac3c-49d7c02c61be"
      },
      "source": [
        "engaged_shopers <- read.csv(\"online_shoppers_intention.csv\", header = TRUE)\n",
        "head(engaged_shopers)"
      ],
      "execution_count": 1,
      "outputs": [
        {
          "output_type": "display_data",
          "data": {
            "text/plain": [
              "  Administrative Administrative_Duration Informational Informational_Duration\n",
              "1 0               0                      0              0                    \n",
              "2 0               0                      0              0                    \n",
              "3 0              -1                      0             -1                    \n",
              "4 0               0                      0              0                    \n",
              "5 0               0                      0              0                    \n",
              "6 0               0                      0              0                    \n",
              "  ProductRelated ProductRelated_Duration BounceRates ExitRates PageValues\n",
              "1  1               0.000000              0.20000000  0.2000000 0         \n",
              "2  2              64.000000              0.00000000  0.1000000 0         \n",
              "3  1              -1.000000              0.20000000  0.2000000 0         \n",
              "4  2               2.666667              0.05000000  0.1400000 0         \n",
              "5 10             627.500000              0.02000000  0.0500000 0         \n",
              "6 19             154.216667              0.01578947  0.0245614 0         \n",
              "  SpecialDay Month OperatingSystems Browser Region TrafficType\n",
              "1 0          Feb   1                1       1      1          \n",
              "2 0          Feb   2                2       1      2          \n",
              "3 0          Feb   4                1       9      3          \n",
              "4 0          Feb   3                2       2      4          \n",
              "5 0          Feb   3                3       1      4          \n",
              "6 0          Feb   2                2       1      3          \n",
              "  VisitorType       Weekend Revenue\n",
              "1 Returning_Visitor FALSE   FALSE  \n",
              "2 Returning_Visitor FALSE   FALSE  \n",
              "3 Returning_Visitor FALSE   FALSE  \n",
              "4 Returning_Visitor FALSE   FALSE  \n",
              "5 Returning_Visitor  TRUE   FALSE  \n",
              "6 Returning_Visitor FALSE   FALSE  "
            ],
            "text/latex": "A data.frame: 6 × 18\n\\begin{tabular}{r|llllllllllllllllll}\n  & Administrative & Administrative\\_Duration & Informational & Informational\\_Duration & ProductRelated & ProductRelated\\_Duration & BounceRates & ExitRates & PageValues & SpecialDay & Month & OperatingSystems & Browser & Region & TrafficType & VisitorType & Weekend & Revenue\\\\\n  & <int> & <dbl> & <int> & <dbl> & <int> & <dbl> & <dbl> & <dbl> & <dbl> & <dbl> & <fct> & <int> & <int> & <int> & <int> & <fct> & <lgl> & <lgl>\\\\\n\\hline\n\t1 & 0 &  0 & 0 &  0 &  1 &   0.000000 & 0.20000000 & 0.2000000 & 0 & 0 & Feb & 1 & 1 & 1 & 1 & Returning\\_Visitor & FALSE & FALSE\\\\\n\t2 & 0 &  0 & 0 &  0 &  2 &  64.000000 & 0.00000000 & 0.1000000 & 0 & 0 & Feb & 2 & 2 & 1 & 2 & Returning\\_Visitor & FALSE & FALSE\\\\\n\t3 & 0 & -1 & 0 & -1 &  1 &  -1.000000 & 0.20000000 & 0.2000000 & 0 & 0 & Feb & 4 & 1 & 9 & 3 & Returning\\_Visitor & FALSE & FALSE\\\\\n\t4 & 0 &  0 & 0 &  0 &  2 &   2.666667 & 0.05000000 & 0.1400000 & 0 & 0 & Feb & 3 & 2 & 2 & 4 & Returning\\_Visitor & FALSE & FALSE\\\\\n\t5 & 0 &  0 & 0 &  0 & 10 & 627.500000 & 0.02000000 & 0.0500000 & 0 & 0 & Feb & 3 & 3 & 1 & 4 & Returning\\_Visitor &  TRUE & FALSE\\\\\n\t6 & 0 &  0 & 0 &  0 & 19 & 154.216667 & 0.01578947 & 0.0245614 & 0 & 0 & Feb & 2 & 2 & 1 & 3 & Returning\\_Visitor & FALSE & FALSE\\\\\n\\end{tabular}\n",
            "text/markdown": "\nA data.frame: 6 × 18\n\n| <!--/--> | Administrative &lt;int&gt; | Administrative_Duration &lt;dbl&gt; | Informational &lt;int&gt; | Informational_Duration &lt;dbl&gt; | ProductRelated &lt;int&gt; | ProductRelated_Duration &lt;dbl&gt; | BounceRates &lt;dbl&gt; | ExitRates &lt;dbl&gt; | PageValues &lt;dbl&gt; | SpecialDay &lt;dbl&gt; | Month &lt;fct&gt; | OperatingSystems &lt;int&gt; | Browser &lt;int&gt; | Region &lt;int&gt; | TrafficType &lt;int&gt; | VisitorType &lt;fct&gt; | Weekend &lt;lgl&gt; | Revenue &lt;lgl&gt; |\n|---|---|---|---|---|---|---|---|---|---|---|---|---|---|---|---|---|---|---|\n| 1 | 0 |  0 | 0 |  0 |  1 |   0.000000 | 0.20000000 | 0.2000000 | 0 | 0 | Feb | 1 | 1 | 1 | 1 | Returning_Visitor | FALSE | FALSE |\n| 2 | 0 |  0 | 0 |  0 |  2 |  64.000000 | 0.00000000 | 0.1000000 | 0 | 0 | Feb | 2 | 2 | 1 | 2 | Returning_Visitor | FALSE | FALSE |\n| 3 | 0 | -1 | 0 | -1 |  1 |  -1.000000 | 0.20000000 | 0.2000000 | 0 | 0 | Feb | 4 | 1 | 9 | 3 | Returning_Visitor | FALSE | FALSE |\n| 4 | 0 |  0 | 0 |  0 |  2 |   2.666667 | 0.05000000 | 0.1400000 | 0 | 0 | Feb | 3 | 2 | 2 | 4 | Returning_Visitor | FALSE | FALSE |\n| 5 | 0 |  0 | 0 |  0 | 10 | 627.500000 | 0.02000000 | 0.0500000 | 0 | 0 | Feb | 3 | 3 | 1 | 4 | Returning_Visitor |  TRUE | FALSE |\n| 6 | 0 |  0 | 0 |  0 | 19 | 154.216667 | 0.01578947 | 0.0245614 | 0 | 0 | Feb | 2 | 2 | 1 | 3 | Returning_Visitor | FALSE | FALSE |\n\n",
            "text/html": [
              "<table>\n",
              "<caption>A data.frame: 6 × 18</caption>\n",
              "<thead>\n",
              "\t<tr><th></th><th scope=col>Administrative</th><th scope=col>Administrative_Duration</th><th scope=col>Informational</th><th scope=col>Informational_Duration</th><th scope=col>ProductRelated</th><th scope=col>ProductRelated_Duration</th><th scope=col>BounceRates</th><th scope=col>ExitRates</th><th scope=col>PageValues</th><th scope=col>SpecialDay</th><th scope=col>Month</th><th scope=col>OperatingSystems</th><th scope=col>Browser</th><th scope=col>Region</th><th scope=col>TrafficType</th><th scope=col>VisitorType</th><th scope=col>Weekend</th><th scope=col>Revenue</th></tr>\n",
              "\t<tr><th></th><th scope=col>&lt;int&gt;</th><th scope=col>&lt;dbl&gt;</th><th scope=col>&lt;int&gt;</th><th scope=col>&lt;dbl&gt;</th><th scope=col>&lt;int&gt;</th><th scope=col>&lt;dbl&gt;</th><th scope=col>&lt;dbl&gt;</th><th scope=col>&lt;dbl&gt;</th><th scope=col>&lt;dbl&gt;</th><th scope=col>&lt;dbl&gt;</th><th scope=col>&lt;fct&gt;</th><th scope=col>&lt;int&gt;</th><th scope=col>&lt;int&gt;</th><th scope=col>&lt;int&gt;</th><th scope=col>&lt;int&gt;</th><th scope=col>&lt;fct&gt;</th><th scope=col>&lt;lgl&gt;</th><th scope=col>&lt;lgl&gt;</th></tr>\n",
              "</thead>\n",
              "<tbody>\n",
              "\t<tr><th scope=row>1</th><td>0</td><td> 0</td><td>0</td><td> 0</td><td> 1</td><td>  0.000000</td><td>0.20000000</td><td>0.2000000</td><td>0</td><td>0</td><td>Feb</td><td>1</td><td>1</td><td>1</td><td>1</td><td>Returning_Visitor</td><td>FALSE</td><td>FALSE</td></tr>\n",
              "\t<tr><th scope=row>2</th><td>0</td><td> 0</td><td>0</td><td> 0</td><td> 2</td><td> 64.000000</td><td>0.00000000</td><td>0.1000000</td><td>0</td><td>0</td><td>Feb</td><td>2</td><td>2</td><td>1</td><td>2</td><td>Returning_Visitor</td><td>FALSE</td><td>FALSE</td></tr>\n",
              "\t<tr><th scope=row>3</th><td>0</td><td>-1</td><td>0</td><td>-1</td><td> 1</td><td> -1.000000</td><td>0.20000000</td><td>0.2000000</td><td>0</td><td>0</td><td>Feb</td><td>4</td><td>1</td><td>9</td><td>3</td><td>Returning_Visitor</td><td>FALSE</td><td>FALSE</td></tr>\n",
              "\t<tr><th scope=row>4</th><td>0</td><td> 0</td><td>0</td><td> 0</td><td> 2</td><td>  2.666667</td><td>0.05000000</td><td>0.1400000</td><td>0</td><td>0</td><td>Feb</td><td>3</td><td>2</td><td>2</td><td>4</td><td>Returning_Visitor</td><td>FALSE</td><td>FALSE</td></tr>\n",
              "\t<tr><th scope=row>5</th><td>0</td><td> 0</td><td>0</td><td> 0</td><td>10</td><td>627.500000</td><td>0.02000000</td><td>0.0500000</td><td>0</td><td>0</td><td>Feb</td><td>3</td><td>3</td><td>1</td><td>4</td><td>Returning_Visitor</td><td> TRUE</td><td>FALSE</td></tr>\n",
              "\t<tr><th scope=row>6</th><td>0</td><td> 0</td><td>0</td><td> 0</td><td>19</td><td>154.216667</td><td>0.01578947</td><td>0.0245614</td><td>0</td><td>0</td><td>Feb</td><td>2</td><td>2</td><td>1</td><td>3</td><td>Returning_Visitor</td><td>FALSE</td><td>FALSE</td></tr>\n",
              "</tbody>\n",
              "</table>\n"
            ]
          },
          "metadata": {
            "tags": []
          }
        }
      ]
    },
    {
      "cell_type": "code",
      "metadata": {
        "id": "BgUluOklFhfZ",
        "colab_type": "code",
        "colab": {
          "base_uri": "https://localhost:8080/",
          "height": 34
        },
        "outputId": "ed0e2f3f-70d2-4f00-c270-4d4c7be228b3"
      },
      "source": [
        "dim(engaged_shopers)"
      ],
      "execution_count": 2,
      "outputs": [
        {
          "output_type": "display_data",
          "data": {
            "text/plain": [
              "[1] 12330    18"
            ],
            "text/latex": "\\begin{enumerate*}\n\\item 12330\n\\item 18\n\\end{enumerate*}\n",
            "text/markdown": "1. 12330\n2. 18\n\n\n",
            "text/html": [
              "<style>\n",
              ".list-inline {list-style: none; margin:0; padding: 0}\n",
              ".list-inline>li {display: inline-block}\n",
              ".list-inline>li:not(:last-child)::after {content: \"\\00b7\"; padding: 0 .5ex}\n",
              "</style>\n",
              "<ol class=list-inline><li>12330</li><li>18</li></ol>\n"
            ]
          },
          "metadata": {
            "tags": []
          }
        }
      ]
    },
    {
      "cell_type": "markdown",
      "metadata": {
        "id": "E6cw3mW-KtzM",
        "colab_type": "text"
      },
      "source": [
        "our dataset has 12330 rows and  18 columns "
      ]
    },
    {
      "cell_type": "code",
      "metadata": {
        "id": "QrgFnvDzK98o",
        "colab_type": "code",
        "colab": {
          "base_uri": "https://localhost:8080/",
          "height": 697
        },
        "outputId": "004ce369-65af-4fe4-bfbb-276877a0465e"
      },
      "source": [
        "summary(engaged_shopers)"
      ],
      "execution_count": 3,
      "outputs": [
        {
          "output_type": "display_data",
          "data": {
            "text/plain": [
              " Administrative   Administrative_Duration Informational   \n",
              " Min.   : 0.000   Min.   :  -1.00         Min.   : 0.000  \n",
              " 1st Qu.: 0.000   1st Qu.:   0.00         1st Qu.: 0.000  \n",
              " Median : 1.000   Median :   8.00         Median : 0.000  \n",
              " Mean   : 2.318   Mean   :  80.91         Mean   : 0.504  \n",
              " 3rd Qu.: 4.000   3rd Qu.:  93.50         3rd Qu.: 0.000  \n",
              " Max.   :27.000   Max.   :3398.75         Max.   :24.000  \n",
              " NA's   :14       NA's   :14              NA's   :14      \n",
              " Informational_Duration ProductRelated   ProductRelated_Duration\n",
              " Min.   :  -1.00        Min.   :  0.00   Min.   :   -1.0        \n",
              " 1st Qu.:   0.00        1st Qu.:  7.00   1st Qu.:  185.0        \n",
              " Median :   0.00        Median : 18.00   Median :  599.8        \n",
              " Mean   :  34.51        Mean   : 31.76   Mean   : 1196.0        \n",
              " 3rd Qu.:   0.00        3rd Qu.: 38.00   3rd Qu.: 1466.5        \n",
              " Max.   :2549.38        Max.   :705.00   Max.   :63973.5        \n",
              " NA's   :14             NA's   :14       NA's   :14             \n",
              "  BounceRates         ExitRates         PageValues        SpecialDay     \n",
              " Min.   :0.000000   Min.   :0.00000   Min.   :  0.000   Min.   :0.00000  \n",
              " 1st Qu.:0.000000   1st Qu.:0.01429   1st Qu.:  0.000   1st Qu.:0.00000  \n",
              " Median :0.003119   Median :0.02512   Median :  0.000   Median :0.00000  \n",
              " Mean   :0.022152   Mean   :0.04300   Mean   :  5.889   Mean   :0.06143  \n",
              " 3rd Qu.:0.016684   3rd Qu.:0.05000   3rd Qu.:  0.000   3rd Qu.:0.00000  \n",
              " Max.   :0.200000   Max.   :0.20000   Max.   :361.764   Max.   :1.00000  \n",
              " NA's   :14         NA's   :14                                           \n",
              "     Month      OperatingSystems    Browser           Region     \n",
              " May    :3364   Min.   :1.000    Min.   : 1.000   Min.   :1.000  \n",
              " Nov    :2998   1st Qu.:2.000    1st Qu.: 2.000   1st Qu.:1.000  \n",
              " Mar    :1907   Median :2.000    Median : 2.000   Median :3.000  \n",
              " Dec    :1727   Mean   :2.124    Mean   : 2.357   Mean   :3.147  \n",
              " Oct    : 549   3rd Qu.:3.000    3rd Qu.: 2.000   3rd Qu.:4.000  \n",
              " Sep    : 448   Max.   :8.000    Max.   :13.000   Max.   :9.000  \n",
              " (Other):1337                                                    \n",
              "  TrafficType               VisitorType     Weekend         Revenue       \n",
              " Min.   : 1.00   New_Visitor      : 1694   Mode :logical   Mode :logical  \n",
              " 1st Qu.: 2.00   Other            :   85   FALSE:9462      FALSE:10422    \n",
              " Median : 2.00   Returning_Visitor:10551   TRUE :2868      TRUE :1908     \n",
              " Mean   : 4.07                                                            \n",
              " 3rd Qu.: 4.00                                                            \n",
              " Max.   :20.00                                                            \n",
              "                                                                          "
            ]
          },
          "metadata": {
            "tags": []
          }
        }
      ]
    },
    {
      "cell_type": "code",
      "metadata": {
        "id": "_rGC1vLNLEo2",
        "colab_type": "code",
        "colab": {
          "base_uri": "https://localhost:8080/",
          "height": 340
        },
        "outputId": "1597573b-a777-48c6-b258-29740e92c774"
      },
      "source": [
        "str(engaged_shopers)"
      ],
      "execution_count": 4,
      "outputs": [
        {
          "output_type": "stream",
          "text": [
            "'data.frame':\t12330 obs. of  18 variables:\n",
            " $ Administrative         : int  0 0 0 0 0 0 0 1 0 0 ...\n",
            " $ Administrative_Duration: num  0 0 -1 0 0 0 -1 -1 0 0 ...\n",
            " $ Informational          : int  0 0 0 0 0 0 0 0 0 0 ...\n",
            " $ Informational_Duration : num  0 0 -1 0 0 0 -1 -1 0 0 ...\n",
            " $ ProductRelated         : int  1 2 1 2 10 19 1 1 2 3 ...\n",
            " $ ProductRelated_Duration: num  0 64 -1 2.67 627.5 ...\n",
            " $ BounceRates            : num  0.2 0 0.2 0.05 0.02 ...\n",
            " $ ExitRates              : num  0.2 0.1 0.2 0.14 0.05 ...\n",
            " $ PageValues             : num  0 0 0 0 0 0 0 0 0 0 ...\n",
            " $ SpecialDay             : num  0 0 0 0 0 0 0.4 0 0.8 0.4 ...\n",
            " $ Month                  : Factor w/ 10 levels \"Aug\",\"Dec\",\"Feb\",..: 3 3 3 3 3 3 3 3 3 3 ...\n",
            " $ OperatingSystems       : int  1 2 4 3 3 2 2 1 2 2 ...\n",
            " $ Browser                : int  1 2 1 2 3 2 4 2 2 4 ...\n",
            " $ Region                 : int  1 1 9 2 1 1 3 1 2 1 ...\n",
            " $ TrafficType            : int  1 2 3 4 4 3 3 5 3 2 ...\n",
            " $ VisitorType            : Factor w/ 3 levels \"New_Visitor\",..: 3 3 3 3 3 3 3 3 3 3 ...\n",
            " $ Weekend                : logi  FALSE FALSE FALSE FALSE TRUE FALSE ...\n",
            " $ Revenue                : logi  FALSE FALSE FALSE FALSE FALSE FALSE ...\n"
          ],
          "name": "stdout"
        }
      ]
    },
    {
      "cell_type": "code",
      "metadata": {
        "id": "7q4IaxVoLixB",
        "colab_type": "code",
        "colab": {
          "base_uri": "https://localhost:8080/",
          "height": 51
        },
        "outputId": "1b437491-2eb9-4e8d-844b-d1659b3885b0"
      },
      "source": [
        "names(engaged_shopers)"
      ],
      "execution_count": 5,
      "outputs": [
        {
          "output_type": "display_data",
          "data": {
            "text/plain": [
              " [1] \"Administrative\"          \"Administrative_Duration\"\n",
              " [3] \"Informational\"           \"Informational_Duration\" \n",
              " [5] \"ProductRelated\"          \"ProductRelated_Duration\"\n",
              " [7] \"BounceRates\"             \"ExitRates\"              \n",
              " [9] \"PageValues\"              \"SpecialDay\"             \n",
              "[11] \"Month\"                   \"OperatingSystems\"       \n",
              "[13] \"Browser\"                 \"Region\"                 \n",
              "[15] \"TrafficType\"             \"VisitorType\"            \n",
              "[17] \"Weekend\"                 \"Revenue\"                "
            ],
            "text/latex": "\\begin{enumerate*}\n\\item 'Administrative'\n\\item 'Administrative\\_Duration'\n\\item 'Informational'\n\\item 'Informational\\_Duration'\n\\item 'ProductRelated'\n\\item 'ProductRelated\\_Duration'\n\\item 'BounceRates'\n\\item 'ExitRates'\n\\item 'PageValues'\n\\item 'SpecialDay'\n\\item 'Month'\n\\item 'OperatingSystems'\n\\item 'Browser'\n\\item 'Region'\n\\item 'TrafficType'\n\\item 'VisitorType'\n\\item 'Weekend'\n\\item 'Revenue'\n\\end{enumerate*}\n",
            "text/markdown": "1. 'Administrative'\n2. 'Administrative_Duration'\n3. 'Informational'\n4. 'Informational_Duration'\n5. 'ProductRelated'\n6. 'ProductRelated_Duration'\n7. 'BounceRates'\n8. 'ExitRates'\n9. 'PageValues'\n10. 'SpecialDay'\n11. 'Month'\n12. 'OperatingSystems'\n13. 'Browser'\n14. 'Region'\n15. 'TrafficType'\n16. 'VisitorType'\n17. 'Weekend'\n18. 'Revenue'\n\n\n",
            "text/html": [
              "<style>\n",
              ".list-inline {list-style: none; margin:0; padding: 0}\n",
              ".list-inline>li {display: inline-block}\n",
              ".list-inline>li:not(:last-child)::after {content: \"\\00b7\"; padding: 0 .5ex}\n",
              "</style>\n",
              "<ol class=list-inline><li>'Administrative'</li><li>'Administrative_Duration'</li><li>'Informational'</li><li>'Informational_Duration'</li><li>'ProductRelated'</li><li>'ProductRelated_Duration'</li><li>'BounceRates'</li><li>'ExitRates'</li><li>'PageValues'</li><li>'SpecialDay'</li><li>'Month'</li><li>'OperatingSystems'</li><li>'Browser'</li><li>'Region'</li><li>'TrafficType'</li><li>'VisitorType'</li><li>'Weekend'</li><li>'Revenue'</li></ol>\n"
            ]
          },
          "metadata": {
            "tags": []
          }
        }
      ]
    },
    {
      "cell_type": "markdown",
      "metadata": {
        "id": "ICJqEoj4Eusn",
        "colab_type": "text"
      },
      "source": [
        "# Perform Data Cleaning"
      ]
    },
    {
      "cell_type": "markdown",
      "metadata": {
        "id": "znB1aupLEzjz",
        "colab_type": "text"
      },
      "source": [
        "# Perform Exploratory Data Analysis  (Univariate, Bivariate & Multivariate)"
      ]
    },
    {
      "cell_type": "markdown",
      "metadata": {
        "id": "QJBKNAtwE4uB",
        "colab_type": "text"
      },
      "source": [
        "# Implement the Solution"
      ]
    },
    {
      "cell_type": "markdown",
      "metadata": {
        "id": "qH8LVPUUE9N_",
        "colab_type": "text"
      },
      "source": [
        "# Challenge the Solution"
      ]
    },
    {
      "cell_type": "markdown",
      "metadata": {
        "id": "5s_A3v06FBTO",
        "colab_type": "text"
      },
      "source": [
        "# Follow up Questions"
      ]
    },
    {
      "cell_type": "code",
      "metadata": {
        "id": "-lHyTlHy_yUU",
        "colab_type": "code",
        "colab": {}
      },
      "source": [
        ""
      ],
      "execution_count": null,
      "outputs": []
    }
  ]
}